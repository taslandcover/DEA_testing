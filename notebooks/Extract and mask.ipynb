{
 "cells": [
  {
   "cell_type": "markdown",
   "metadata": {},
   "source": [
    "# Extract Testing"
   ]
  },
  {
   "cell_type": "code",
   "execution_count": 1,
   "metadata": {},
   "outputs": [],
   "source": [
    "%matplotlib inline"
   ]
  },
  {
   "cell_type": "code",
   "execution_count": 2,
   "metadata": {},
   "outputs": [],
   "source": [
    "import pandas\n",
    "pandas.set_option('display.max_colwidth', 200)\n",
    "pandas.set_option('display.max_rows', 5) # limit of 5 rows to show"
   ]
  },
  {
   "cell_type": "code",
   "execution_count": 4,
   "metadata": {},
   "outputs": [],
   "source": [
    "import datacube\n",
    "from datacube.storage.masking import mask_invalid_data"
   ]
  },
  {
   "cell_type": "code",
   "execution_count": 5,
   "metadata": {},
   "outputs": [],
   "source": [
    "dc = datacube.Datacube(app='extract-testing')"
   ]
  },
  {
   "cell_type": "code",
   "execution_count": 6,
   "metadata": {},
   "outputs": [
    {
     "data": {
      "text/html": [
       "<div>\n",
       "<style scoped>\n",
       "    .dataframe tbody tr th:only-of-type {\n",
       "        vertical-align: middle;\n",
       "    }\n",
       "\n",
       "    .dataframe tbody tr th {\n",
       "        vertical-align: top;\n",
       "    }\n",
       "\n",
       "    .dataframe thead th {\n",
       "        text-align: right;\n",
       "    }\n",
       "</style>\n",
       "<table border=\"1\" class=\"dataframe\">\n",
       "  <thead>\n",
       "    <tr style=\"text-align: right;\">\n",
       "      <th></th>\n",
       "      <th>name</th>\n",
       "      <th>description</th>\n",
       "    </tr>\n",
       "    <tr>\n",
       "      <th>id</th>\n",
       "      <th></th>\n",
       "      <th></th>\n",
       "    </tr>\n",
       "  </thead>\n",
       "  <tbody>\n",
       "    <tr>\n",
       "      <th>36</th>\n",
       "      <td>bom_rainfall_grids</td>\n",
       "      <td>Interpolated Rain Gauge Precipitation 1-Day Australia 5km Gridded</td>\n",
       "    </tr>\n",
       "    <tr>\n",
       "      <th>32</th>\n",
       "      <td>dsm1sv10</td>\n",
       "      <td>DSM 1sec Version 1.0</td>\n",
       "    </tr>\n",
       "    <tr>\n",
       "      <th>...</th>\n",
       "      <td>...</td>\n",
       "      <td>...</td>\n",
       "    </tr>\n",
       "    <tr>\n",
       "      <th>46</th>\n",
       "      <td>wofs_albers</td>\n",
       "      <td>Historic Flood Mapping Water Observations from Space</td>\n",
       "    </tr>\n",
       "    <tr>\n",
       "      <th>62</th>\n",
       "      <td>wofs_modified_albers2</td>\n",
       "      <td>Historic Flood Mapping Water Observations from Space</td>\n",
       "    </tr>\n",
       "  </tbody>\n",
       "</table>\n",
       "<p>56 rows × 2 columns</p>\n",
       "</div>"
      ],
      "text/plain": [
       "                     name  \\\n",
       "id                          \n",
       "36     bom_rainfall_grids   \n",
       "32               dsm1sv10   \n",
       "..                    ...   \n",
       "46            wofs_albers   \n",
       "62  wofs_modified_albers2   \n",
       "\n",
       "                                                          description  \n",
       "id                                                                     \n",
       "36  Interpolated Rain Gauge Precipitation 1-Day Australia 5km Gridded  \n",
       "32                                               DSM 1sec Version 1.0  \n",
       "..                                                                ...  \n",
       "46               Historic Flood Mapping Water Observations from Space  \n",
       "62               Historic Flood Mapping Water Observations from Space  \n",
       "\n",
       "[56 rows x 2 columns]"
      ]
     },
     "execution_count": 6,
     "metadata": {},
     "output_type": "execute_result"
    }
   ],
   "source": [
    "products = dc.list_products()\n",
    "display_columns = ['name', 'description']\n",
    "products[display_columns]"
   ]
  },
  {
   "cell_type": "code",
   "execution_count": 7,
   "metadata": {},
   "outputs": [],
   "source": [
    "display_columns = ['units', 'nodata', 'aliases']"
   ]
  },
  {
   "cell_type": "code",
   "execution_count": 8,
   "metadata": {},
   "outputs": [],
   "source": [
    "measurements = dc.list_measurements()"
   ]
  },
  {
   "cell_type": "code",
   "execution_count": 9,
   "metadata": {},
   "outputs": [
    {
     "data": {
      "text/html": [
       "<div>\n",
       "<style scoped>\n",
       "    .dataframe tbody tr th:only-of-type {\n",
       "        vertical-align: middle;\n",
       "    }\n",
       "\n",
       "    .dataframe tbody tr th {\n",
       "        vertical-align: top;\n",
       "    }\n",
       "\n",
       "    .dataframe thead th {\n",
       "        text-align: right;\n",
       "    }\n",
       "</style>\n",
       "<table border=\"1\" class=\"dataframe\">\n",
       "  <thead>\n",
       "    <tr style=\"text-align: right;\">\n",
       "      <th></th>\n",
       "      <th>units</th>\n",
       "      <th>nodata</th>\n",
       "      <th>aliases</th>\n",
       "    </tr>\n",
       "    <tr>\n",
       "      <th>measurement</th>\n",
       "      <th></th>\n",
       "      <th></th>\n",
       "      <th></th>\n",
       "    </tr>\n",
       "  </thead>\n",
       "  <tbody>\n",
       "    <tr>\n",
       "      <th>BS</th>\n",
       "      <td>percent</td>\n",
       "      <td>-1</td>\n",
       "      <td>[bare]</td>\n",
       "    </tr>\n",
       "    <tr>\n",
       "      <th>PV</th>\n",
       "      <td>percent</td>\n",
       "      <td>-1</td>\n",
       "      <td>[green_veg]</td>\n",
       "    </tr>\n",
       "    <tr>\n",
       "      <th>NPV</th>\n",
       "      <td>percent</td>\n",
       "      <td>-1</td>\n",
       "      <td>[dead_veg]</td>\n",
       "    </tr>\n",
       "    <tr>\n",
       "      <th>UE</th>\n",
       "      <td>1</td>\n",
       "      <td>-1</td>\n",
       "      <td>[err]</td>\n",
       "    </tr>\n",
       "  </tbody>\n",
       "</table>\n",
       "</div>"
      ],
      "text/plain": [
       "               units nodata      aliases\n",
       "measurement                             \n",
       "BS           percent     -1       [bare]\n",
       "PV           percent     -1  [green_veg]\n",
       "NPV          percent     -1   [dead_veg]\n",
       "UE                 1     -1        [err]"
      ]
     },
     "execution_count": 9,
     "metadata": {},
     "output_type": "execute_result"
    }
   ],
   "source": [
    "measurements[display_columns].loc['ls8_fc_albers']"
   ]
  },
  {
   "cell_type": "code",
   "execution_count": 10,
   "metadata": {},
   "outputs": [],
   "source": [
    "data = dc.load(product='ls8_fc_albers',\n",
    "               x=(147.6, 147.85), y=(-41.7, -41.95),\n",
    "               time=('2017-01-01', '2018-01-01'))\n",
    "data = mask_invalid_data(data)"
   ]
  },
  {
   "cell_type": "code",
   "execution_count": 12,
   "metadata": {},
   "outputs": [
    {
     "data": {
      "text/plain": [
       "<xarray.Dataset>\n",
       "Dimensions:  (time: 23, x: 979, y: 1181)\n",
       "Coordinates:\n",
       "  * time     (time) datetime64[ns] 2017-01-07T23:52:29 ...\n",
       "  * y        (y) float64 -4.64e+06 -4.64e+06 -4.64e+06 -4.64e+06 -4.64e+06 ...\n",
       "  * x        (x) float64 1.324e+06 1.324e+06 1.324e+06 1.324e+06 1.324e+06 ...\n",
       "Data variables:\n",
       "    BS       (time, y, x) float64 28.0 31.0 37.0 48.0 40.0 42.0 39.0 42.0 ...\n",
       "    PV       (time, y, x) float64 38.0 39.0 40.0 38.0 38.0 39.0 41.0 42.0 ...\n",
       "    NPV      (time, y, x) float64 33.0 29.0 21.0 13.0 21.0 17.0 19.0 15.0 ...\n",
       "    UE       (time, y, x) float64 8.0 8.0 7.0 7.0 7.0 8.0 8.0 7.0 6.0 6.0 ...\n",
       "Attributes:\n",
       "    crs:      EPSG:3577"
      ]
     },
     "execution_count": 12,
     "metadata": {},
     "output_type": "execute_result"
    }
   ],
   "source": [
    "data"
   ]
  },
  {
   "cell_type": "code",
   "execution_count": 16,
   "metadata": {},
   "outputs": [],
   "source": [
    "datacube.storage.storage.write_dataset_to_netcdf(data, '/home/554/lm4502/fc_test_extract')"
   ]
  },
  {
   "cell_type": "code",
   "execution_count": null,
   "metadata": {},
   "outputs": [],
   "source": []
  }
 ],
 "metadata": {
  "kernelspec": {
   "display_name": "Python [default]",
   "language": "python",
   "name": "python3"
  },
  "language_info": {
   "codemirror_mode": {
    "name": "ipython",
    "version": 3
   },
   "file_extension": ".py",
   "mimetype": "text/x-python",
   "name": "python",
   "nbconvert_exporter": "python",
   "pygments_lexer": "ipython3",
   "version": "3.6.6"
  }
 },
 "nbformat": 4,
 "nbformat_minor": 2
}
