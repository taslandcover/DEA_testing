{
 "cells": [
  {
   "cell_type": "markdown",
   "metadata": {},
   "source": [
    "# Extract Single Date by Polygons\n",
    "his notebook is designed to iterate through a polygon shapefile and extract image chips based on the fields in the attribute table realting to capture date and sensor mission. This notebook will only extract a bounding rectangle for each shape (incuding multipart shapes rather than an exact polygon)."
   ]
  },
  {
   "cell_type": "code",
   "execution_count": 1,
   "metadata": {},
   "outputs": [],
   "source": [
    "# What can be deleted here?\n",
    "%matplotlib inline\n",
    "import os\n",
    "import datacube\n",
    "from datacube import Datacube\n",
    "from datacube.utils import geometry\n",
    "import fiona\n",
    "import rasterio.features\n",
    "\n",
    "import sys\n",
    "sys.path.append(os.path.abspath('/g/data/r78/DPIPWE_lm/repos/dea-notebooks/Scripts'))\n",
    "from dea_datahandling import load_ard\n",
    "from datacube.helpers import write_geotiff\n",
    "\n",
    "#Specify output directory\n",
    "outputdir = '/g/data/r78/DPIPWE_lm/output_data/'\n",
    "if not os.path.exists(outputdir):\n",
    "    print(\"output directory doesn't exist\")\n",
    "    exit()"
   ]
  },
  {
   "cell_type": "code",
   "execution_count": 2,
   "metadata": {},
   "outputs": [],
   "source": [
    "# This section is included so that the load_ard function can be used.\n",
    "# Connect to datacube containing Landsat data\n",
    "dc_sentinel2 = datacube.Datacube(app='Using_load_ard')\n",
    "\n",
    "\n",
    "# Temporary solution to account for Collection 3 data being in a different\n",
    "# database on the NCI\n",
    "try:\n",
    "    dc_landsat = datacube.Datacube(app='Using_load_ard', env='c3-samples') # need access to project xu18 for ard\n",
    "except:\n",
    "    dc_landsat = datacube.Datacube(app='Using_load_ard')\n",
    "\n",
    "#dc = datacube.Datacube(app='load_landsat_example')"
   ]
  },
  {
   "cell_type": "code",
   "execution_count": 3,
   "metadata": {},
   "outputs": [],
   "source": [
    "# Set this to the location for the polygon shapefile (must contain appropriate attributes)\n",
    "shape_file = os.path.expanduser('/g/data1a/r78/DPIPWE_lm/input_data/DEA_multi__sen_shapes.shp')"
   ]
  },
  {
   "cell_type": "code",
   "execution_count": 11,
   "metadata": {},
   "outputs": [
    {
     "name": "stdout",
     "output_type": "stream",
     "text": [
      "Loading s2a_ard_granule data\n",
      "    No data for s2a_ard_granule\n",
      "Loading s2b_ard_granule data\n",
      "    Applying pixel quality mask\n",
      "Combining and sorting data\n",
      "Masking out invalid values\n",
      "    Returning 1 observations \n",
      "Loading Sentinel image for 2019-11-16\n",
      "Writing image Jilletts Tier_SENTINEL_2019-11-16.tif\n",
      "Loading ga_ls5t_ard_3 data\n",
      "    No data for ga_ls5t_ard_3\n",
      "Loading ga_ls7e_ard_3 data\n",
      "    No data for ga_ls7e_ard_3\n",
      "Loading ga_ls8c_ard_3 data\n",
      "    Applying pixel quality mask\n",
      "Combining and sorting data\n",
      "Masking out invalid values\n",
      "    Returning 1 observations \n",
      "Loading Landsat image for 2019-01-29\n",
      "Writing image Boobyalla_LANDSAT_2019-01-29.tif\n",
      "Loading s2a_ard_granule data\n",
      "    No data for s2a_ard_granule\n",
      "Loading s2b_ard_granule data\n",
      "    Applying pixel quality mask\n",
      "Combining and sorting data\n",
      "Masking out invalid values\n",
      "    Returning 1 observations \n",
      "Loading Sentinel image for 2019-01-30\n",
      "Writing image Flinders_multi_SENTINEL_2019-01-30.tif\n"
     ]
    }
   ],
   "source": [
    "# Use Fiona to iterate through polgons in shapefile and export image chips to geotiff\n",
    "# NB Multipart geometries will result in total combined extent being extracted\n",
    "with fiona.open(shape_file) as shapes:\n",
    "        crs = geometry.CRS(shapes.crs_wkt)\n",
    "        for shape in shapes:\n",
    "            \n",
    "            geom = geometry.Geometry(shape['geometry'], crs=crs)\n",
    "            sen = (shape['properties']['SENSOR'])\n",
    "            sdate = (shape['properties']['SEN_DATE'])\n",
    "            sdate = str(sdate)\n",
    "            ds_name = (shape['properties']['NAME'])+'_'+(shape['properties']['SENSOR'])+'_'+sdate #make a name for each ds\n",
    "            #print(sdate)\n",
    "            \n",
    "            query = {'geopolygon': geom,\n",
    "                     'time': (sdate),\n",
    "                     'group_by': 'solar_day',\n",
    "                     'output_crs':crs}\n",
    "            \n",
    "            #print(sen)\n",
    "            \n",
    "            if sen == 'SENTINEL':\n",
    "                # Load available data from both Sentinel 2 satellites\n",
    "                ds = load_ard(dc=dc_sentinel2,\n",
    "                    products=['s2a_ard_granule', 's2b_ard_granule'],\n",
    "                    measurements=['nbart_blue', 'nbart_green', 'nbart_red', 'nbart_nir_1'],\n",
    "                    resolution=(-20, 20),\n",
    "                    **query)\n",
    "\n",
    "            elif sen == 'LANDSAT':\n",
    "                ds = load_ard(dc=dc_landsat,\n",
    "                    products=['ga_ls5t_ard_3', 'ga_ls7e_ard_3', 'ga_ls8c_ard_3'],\n",
    "                    measurements=['nbart_blue', 'nbart_green', 'nbart_red', 'nbart_nir', 'nbart_swir_1'],\n",
    "                    resolution=(-30, 30),\n",
    "                    **query)\n",
    "\n",
    "            else:\n",
    "                print('Sensor not recognised. No data loaded')\n",
    "\n",
    "            # Print output data\n",
    "            #print(ds)\n",
    "            \n",
    "            #Export the Geotiff\n",
    "            # Write multi-band GeoTIFF to a location\n",
    "            chip = ds_name + '.tif' # NB some names may have spaces \n",
    "            print('Writing image '+chip)\n",
    "            write_geotiff(outputdir + chip, ds.isel(time=0)) #Not sure why time slice is needed?\n",
    "            \n",
    "\n",
    "            #print(ds_list)"
   ]
  },
  {
   "cell_type": "code",
   "execution_count": null,
   "metadata": {},
   "outputs": [],
   "source": []
  }
 ],
 "metadata": {
  "kernelspec": {
   "display_name": "Python 3",
   "language": "python",
   "name": "python3"
  },
  "language_info": {
   "codemirror_mode": {
    "name": "ipython",
    "version": 3
   },
   "file_extension": ".py",
   "mimetype": "text/x-python",
   "name": "python",
   "nbconvert_exporter": "python",
   "pygments_lexer": "ipython3",
   "version": "3.6.7"
  }
 },
 "nbformat": 4,
 "nbformat_minor": 2
}
