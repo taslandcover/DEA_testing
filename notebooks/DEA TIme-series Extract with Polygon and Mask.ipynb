{
 "cells": [
  {
   "cell_type": "markdown",
   "metadata": {},
   "source": [
    "# Extract Single Date by Polygons\n",
    "This notebook is designed to iterate through a polygon shapefile and extract image chips based on the fields in the attribute table realting to capture date and sensor mission. This notebook will only extract a bounding rectangle for each shape (incuding multipart shapes rather than an exact polygon)."
   ]
  },
  {
   "cell_type": "code",
   "execution_count": 1,
   "metadata": {},
   "outputs": [],
   "source": [
    "# What can be deleted here?\n",
    "%matplotlib inline\n",
    "import os\n",
    "import datacube\n",
    "from datacube import Datacube\n",
    "from datacube.utils import geometry\n",
    "from datacube.storage.masking import mask_invalid_data\n",
    "import fiona\n",
    "import rasterio.features\n",
    "\n",
    "import sys\n",
    "sys.path.append(os.path.abspath('/g/data/r78/DPIPWE_lm/repos/dea-notebooks/Scripts'))\n",
    "from dea_datahandling import load_ard\n",
    "from datacube.helpers import write_geotiff\n",
    "from datacube.drivers.netcdf import write_dataset_to_netcdf\n",
    "\n",
    "#Specify output directory\n",
    "outputdir = '/g/data/r78/DPIPWE_lm/output_data/'\n",
    "if not os.path.exists(outputdir):\n",
    "    print(\"output directory doesn't exist\")\n",
    "    exit()"
   ]
  },
  {
   "cell_type": "code",
   "execution_count": 2,
   "metadata": {},
   "outputs": [],
   "source": [
    "# This section is included so that the load_ard function can be used.\n",
    "# Connect to datacube containing Landsat data\n",
    "dc_sentinel2 = datacube.Datacube(app='Using_load_ard')\n",
    "\n",
    "\n",
    "# Temporary solution to account for Collection 3 data being in a different\n",
    "# database on the NCI\n",
    "try:\n",
    "    dc_landsat = datacube.Datacube(app='Using_load_ard', env='c3-samples') # need access to project xu18 for ard\n",
    "except:\n",
    "    dc_landsat = datacube.Datacube(app='Using_load_ard')\n",
    "\n",
    "#dc = datacube.Datacube(app='load_landsat_example')"
   ]
  },
  {
   "cell_type": "code",
   "execution_count": 3,
   "metadata": {},
   "outputs": [],
   "source": [
    "# Set this to the location for the polygon shapefile (must contain appropriate attributes)\n",
    "shape_file = os.path.expanduser('/g/data1a/r78/DPIPWE_lm/input_data/DEA_multi__sen_shapes.shp')"
   ]
  },
  {
   "cell_type": "code",
   "execution_count": 4,
   "metadata": {},
   "outputs": [],
   "source": [
    "# This function masks data based on a feature geometry\n",
    "\n",
    "def geometry_mask(geoms, geobox, all_touched=False, invert=False):\n",
    "    \"\"\"\n",
    "    Create a mask from shapes.\n",
    "\n",
    "    By default, mask is intended for use as a\n",
    "    numpy mask, where pixels that overlap shapes are False.\n",
    "    :param list[Geometry] geoms: geometries to be rasterized\n",
    "    :param datacube.utils.GeoBox geobox:\n",
    "    :param bool all_touched: If True, all pixels touched by geometries will be burned in. If\n",
    "                             false, only pixels whose center is within the polygon or that\n",
    "                             are selected by Bresenham's line algorithm will be burned in.\n",
    "    :param bool invert: If True, mask will be True for pixels that overlap shapes.\n",
    "    \"\"\"\n",
    "    return rasterio.features.geometry_mask([geom.to_crs(geobox.crs) for geom in geoms],\n",
    "                                           out_shape=geobox.shape,\n",
    "                                           transform=geobox.affine,\n",
    "                                           all_touched=all_touched,\n",
    "                                           invert=invert)"
   ]
  },
  {
   "cell_type": "code",
   "execution_count": 24,
   "metadata": {},
   "outputs": [
    {
     "name": "stdout",
     "output_type": "stream",
     "text": [
      "Loading s2a_ard_granule data\n",
      "    Applying pixel quality mask\n",
      "Loading s2b_ard_granule data\n",
      "    Applying pixel quality mask\n",
      "Combining and sorting data\n",
      "Masking out invalid values\n",
      "    Returning 19 observations \n",
      "Jilletts Tier_SENTINEL\n",
      "Writing 2018-11-16\n",
      "Writing 2018-11-19\n",
      "Writing 2018-11-21\n",
      "Writing 2018-11-24\n",
      "Writing 2018-11-26\n",
      "Writing 2018-11-29\n",
      "Writing 2018-12-01\n",
      "Writing 2018-12-04\n",
      "Writing 2018-12-06\n",
      "Writing 2018-12-09\n",
      "Writing 2018-12-11\n",
      "Writing 2018-12-14\n",
      "Writing 2018-12-16\n",
      "Writing 2018-12-19\n",
      "Writing 2018-12-21\n",
      "Writing 2018-12-24\n",
      "Writing 2018-12-26\n",
      "Writing 2018-12-29\n",
      "Writing 2018-12-31\n",
      "Loading ga_ls5t_ard_3 data\n",
      "    No data for ga_ls5t_ard_3\n",
      "Loading ga_ls7e_ard_3 data\n",
      "    Applying pixel quality mask\n",
      "Loading ga_ls8c_ard_3 data\n",
      "    Applying pixel quality mask\n",
      "Combining and sorting data\n",
      "Masking out invalid values\n",
      "    Returning 6 observations \n",
      "Boobyalla_LANDSAT\n",
      "Writing 2018-11-18\n",
      "Writing 2018-11-26\n",
      "Writing 2018-12-04\n",
      "Writing 2018-12-12\n",
      "Writing 2018-12-20\n",
      "Writing 2018-12-28\n",
      "Loading s2a_ard_granule data\n",
      "    Applying pixel quality mask\n",
      "Loading s2b_ard_granule data\n",
      "    Applying pixel quality mask\n",
      "Combining and sorting data\n",
      "Masking out invalid values\n",
      "    Returning 10 observations \n",
      "Flinders_multi_SENTINEL\n",
      "Writing 2018-11-16\n",
      "Writing 2018-11-21\n",
      "Writing 2018-11-26\n",
      "Writing 2018-12-01\n",
      "Writing 2018-12-06\n",
      "Writing 2018-12-11\n",
      "Writing 2018-12-16\n",
      "Writing 2018-12-21\n",
      "Writing 2018-12-26\n",
      "Writing 2018-12-31\n"
     ]
    }
   ],
   "source": [
    "# Use Fiona to iterate through polgons in shapefile and export image chips to geotiff\n",
    "# NB Multipart geometries will result in total combined extent being extracted\n",
    "with fiona.open(shape_file) as shapes:\n",
    "        crs = geometry.CRS(shapes.crs_wkt)\n",
    "        for shape in shapes:\n",
    "            \n",
    "            geom = geometry.Geometry(shape['geometry'], crs=crs)\n",
    "            sen = (shape['properties']['SENSOR'])\n",
    "            #sdate = (shape['properties']['SEN_DATE'])\n",
    "            #sdate = str(sdate)\n",
    "            ds_name = (shape['properties']['NAME'])+'_'+(shape['properties']['SENSOR']) #make a name for each ds\n",
    "            #print(sdate)\n",
    "            \n",
    "            query = {'geopolygon': geom,\n",
    "                     #'time': (sdate),\n",
    "                     'time': ('2018-11-15', '2018-12-31'), # Define temporal period for multi date case\n",
    "                     'group_by': 'solar_day',\n",
    "                     'output_crs':crs}\n",
    "            \n",
    "            #print(sen)\n",
    "            \n",
    "            if sen == 'SENTINEL':\n",
    "                # Load available data from both Sentinel 2 satellites\n",
    "                ds = load_ard(dc=dc_sentinel2,\n",
    "                    products=['s2a_ard_granule', 's2b_ard_granule'],\n",
    "                    measurements=['nbart_blue', 'nbart_green', 'nbart_red', 'nbart_nir_1'],\n",
    "                    resolution=(-20, 20),\n",
    "                    **query)\n",
    "\n",
    "            elif sen == 'LANDSAT':\n",
    "                ds = load_ard(dc=dc_landsat,\n",
    "                    products=['ga_ls5t_ard_3', 'ga_ls7e_ard_3', 'ga_ls8c_ard_3'],\n",
    "                    measurements=['nbart_blue', 'nbart_green', 'nbart_red', 'nbart_nir', 'nbart_swir_1'],\n",
    "                    resolution=(-30, 30),\n",
    "                    **query)\n",
    "\n",
    "            else:\n",
    "                print('Sensor not recognised. No data loaded')\n",
    "                \n",
    "                \n",
    "            ds = mask_invalid_data(ds) # sets all 'nodata' to 'nan'\n",
    "            \n",
    "            mask = geometry_mask([geom], ds.geobox, invert=True)\n",
    "            ds = ds.where(mask)\n",
    "            \n",
    "            print(ds_name)\n",
    "\n",
    "            # Print output data\n",
    "            #print(ds)\n",
    "            \n",
    "            # Choose the most appropriate block below for what you wish to export\n",
    "            \n",
    "            '''\n",
    "            # This block will export to NetCDF (will bundle layers with time slices)\n",
    "            chip = ds_name + '.nc' # NB some names may have spaces\n",
    "            print('Writing image '+ chip)\n",
    "            write_dataset_to_netcdf(ds, outputdir + chip)\n",
    "            '''\n",
    "            '''\n",
    "            # If exporting to Geotiff a single time slice will need to be specified\n",
    "            # Write multi-band GeoTIFF to a location\n",
    "            chip = ds_name + '.tif' # NB some names may have spaces \n",
    "            print('Writing image '+chip)\n",
    "            write_geotiff(outputdir + chip, ds.isel(time=0)) #Not sure why time slice is needed?\n",
    "            '''\n",
    "            '''\n",
    "            #This block will iterate through cube and export a multiband image\n",
    "            #for each time slice\n",
    "            for i in range(len(ds.time)):\n",
    "                # Use the date of the satellite image to name Geotiff\n",
    "                date = str(ds.isel(time=i).time.data)[:-19]\n",
    "                print(f'Writing {date}')\n",
    "                \n",
    "                #Write GeoTIFF\n",
    "                write_geotiff(outputdir + ds_name + '_' + f'{date}.tif', ds.isel(time=i))\n",
    "            '''\n",
    "            "
   ]
  },
  {
   "cell_type": "code",
   "execution_count": 13,
   "metadata": {},
   "outputs": [
    {
     "data": {
      "text/plain": [
       "<xarray.plot.facetgrid.FacetGrid at 0x7f3f5e7f17b8>"
      ]
     },
     "execution_count": 13,
     "metadata": {},
     "output_type": "execute_result"
    },
    {
     "data": {
      "image/png": "[encoded data removed]",
      "text/plain": [
       "<Figure size 1152x864 with 20 Axes>"
      ]
     },
     "metadata": {
      "needs_background": "light"
     },
     "output_type": "display_data"
    }
   ],
   "source": [
    "# Plot the last ds time series\n",
    "fake_saturation = 80\n",
    "rgb = ds.to_array(dim='color')\n",
    "rgb = rgb.transpose(*(rgb.dims[1:]+rgb.dims[:1]))  # make 'color' the last dimension\n",
    "rgb = rgb.where((rgb <= fake_saturation).all(dim='color'))  # mask out pixels where any band is 'saturated'\n",
    "rgb /= fake_saturation  # scale to [0, 1] range for imshow\n",
    "\n",
    "rgb.plot.imshow(x=ds.crs.dimensions[1], y=ds.crs.dimensions[0],\n",
    "                col='time', col_wrap=5, add_colorbar=False)"
   ]
  },
  {
   "cell_type": "code",
   "execution_count": null,
   "metadata": {},
   "outputs": [],
   "source": []
  }
 ],
 "metadata": {
  "kernelspec": {
   "display_name": "Python 3 (ipykernel)",
   "language": "python",
   "name": "python3"
  },
  "language_info": {
   "codemirror_mode": {
    "name": "ipython",
    "version": 3
   },
   "file_extension": ".py",
   "mimetype": "text/x-python",
   "name": "python",
   "nbconvert_exporter": "python",
   "pygments_lexer": "ipython3",
   "version": "3.8.10"
  }
 },
 "nbformat": 4,
 "nbformat_minor": 4
}
