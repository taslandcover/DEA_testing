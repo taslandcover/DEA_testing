{
 "cells": [
  {
   "cell_type": "markdown",
   "metadata": {},
   "source": [
    "# Loading data from the datacube\n",
    "\n",
    "This notebook will briefly discuss how to load data from the datacube."
   ]
  },
  {
   "cell_type": "markdown",
   "metadata": {},
   "source": [
    "### Importing the datacube module\n",
    "\n",
    "To start with, we'll import the datacube module and load an instance of the datacube and call our application name *load-data-example*."
   ]
  },
  {
   "cell_type": "code",
   "execution_count": 1,
   "metadata": {},
   "outputs": [],
   "source": [
    "import datacube\n",
    "dc = datacube.Datacube(app='load-data-example')"
   ]
  },
  {
   "cell_type": "markdown",
   "metadata": {},
   "source": [
    "### Loading data\n",
    "\n",
    "Loading data from the datacube uses the *load* function.\n",
    "\n",
    "The function takes several arguments:\n",
    "* *product*; A specifc product to load\n",
    "* *x*; Defines the spatial region in the *x* dimension\n",
    "* *y*; Defines the spatial region in the *y* dimension\n",
    "* *time*; Defines the temporal extent.\n",
    "\n",
    "We'll load the Landsat 5-TM, **N**adir **B**i-directional reflectance ristribution function **A**djusted **R**eflectance, for the spatial region covering:\n",
    "\n",
    "* 149.25 -> 149.5 degrees longitude\n",
    "* -36.25 -> -36.5 degrees latitude\n",
    "\n",
    "and a temporal extent covering:\n",
    "\n",
    "* 2008-01-01 -> 2009-01-01"
   ]
  },
  {
   "cell_type": "code",
   "execution_count": 5,
   "metadata": {},
   "outputs": [],
   "source": [
    "data = dc.load(product='s2b_ard_granule', \n",
    "               x=(149.25, 149.5), y=(-36.25, -36.5), output_crs='EPSG:3577',\n",
    "               resolution=(-20,20),\n",
    "               time=('2018-01-01', '2018-02-28'))"
   ]
  },
  {
   "cell_type": "code",
   "execution_count": 6,
   "metadata": {},
   "outputs": [
    {
     "data": {
      "text/plain": [
       "<xarray.Dataset>\n",
       "Dimensions:                (time: 6, x: 1302, y: 1526)\n",
       "Coordinates:\n",
       "  * time                   (time) datetime64[ns] 2018-01-05T00:02:29.027000 ...\n",
       "  * y                      (y) float64 -4.066e+06 -4.066e+06 -4.066e+06 ...\n",
       "  * x                      (x) float64 1.543e+06 1.543e+06 1.543e+06 ...\n",
       "Data variables:\n",
       "    azimuthal_exiting      (time, y, x) float32 -63.415 -65.9663 -71.0553 ...\n",
       "    azimuthal_incident     (time, y, x) float32 -175.41 177.808 171.7 ...\n",
       "    exiting                (time, y, x) float32 7.91941 6.06362 3.21364 ...\n",
       "    incident               (time, y, x) float32 24.9932 25.6866 27.2469 ...\n",
       "    relative_azimuth       (time, y, x) float32 28.5667 28.5669 28.5671 ...\n",
       "    relative_slope         (time, y, x) float32 -111.995 -116.225 -117.244 ...\n",
       "    satellite_azimuth      (time, y, x) float32 100.695 100.695 100.695 ...\n",
       "    satellite_view         (time, y, x) float32 1.76291 1.76149 1.76007 ...\n",
       "    solar_azimuth          (time, y, x) float32 72.1279 72.1277 72.1274 ...\n",
       "    solar_zenith           (time, y, x) float32 30.3841 30.3839 30.3837 ...\n",
       "    terrain_shadow         (time, y, x) uint8 1 1 1 1 1 1 1 1 1 1 1 1 1 1 1 ...\n",
       "    fmask                  (time, y, x) uint8 1 1 1 1 1 1 1 1 1 1 1 1 1 1 1 ...\n",
       "    nbar_contiguity        (time, y, x) uint8 1 1 1 1 1 1 1 1 1 1 1 1 1 1 1 ...\n",
       "    nbar_coastal_aerosol   (time, y, x) int16 400 415 415 415 417 417 417 ...\n",
       "    nbar_blue              (time, y, x) int16 392 476 494 522 582 314 516 ...\n",
       "    nbar_green             (time, y, x) int16 600 739 721 744 769 449 748 ...\n",
       "    nbar_red               (time, y, x) int16 661 828 905 902 917 429 939 ...\n",
       "    nbar_red_edge_1        (time, y, x) int16 1137 1305 1299 1277 1268 827 ...\n",
       "    nbar_red_edge_2        (time, y, x) int16 1791 1856 1773 1917 1814 1332 ...\n",
       "    nbar_red_edge_3        (time, y, x) int16 2111 2172 2023 2218 2092 1531 ...\n",
       "    nbar_nir_1             (time, y, x) int16 2412 2525 2279 2387 2582 1083 ...\n",
       "    nbar_nir_2             (time, y, x) int16 2557 2517 2370 2540 2476 1614 ...\n",
       "    nbar_swir_2            (time, y, x) int16 2944 3109 3128 2911 2531 1855 ...\n",
       "    nbar_swir_3            (time, y, x) int16 1765 1954 1998 1873 1504 1302 ...\n",
       "    nbart_contiguity       (time, y, x) uint8 1 1 1 1 1 1 1 1 1 1 1 1 1 1 1 ...\n",
       "    nbart_coastal_aerosol  (time, y, x) int16 389 407 407 407 417 417 417 ...\n",
       "    nbart_blue             (time, y, x) int16 375 456 480 512 579 316 528 ...\n",
       "    nbart_green            (time, y, x) int16 574 709 701 731 765 451 764 ...\n",
       "    nbart_red              (time, y, x) int16 630 793 878 886 912 431 960 ...\n",
       "    nbart_red_edge_1       (time, y, x) int16 1088 1257 1266 1251 1261 834 ...\n",
       "    nbart_red_edge_2       (time, y, x) int16 1715 1788 1729 1879 1804 1344 ...\n",
       "    nbart_red_edge_3       (time, y, x) int16 2033 2103 1980 2182 2083 1542 ...\n",
       "    nbart_nir_1            (time, y, x) int16 2314 2431 2221 2350 2571 1088 ...\n",
       "    nbart_nir_2            (time, y, x) int16 2462 2437 2320 2498 2465 1626 ...\n",
       "    nbart_swir_2           (time, y, x) int16 2813 2988 3046 2851 2517 1872 ...\n",
       "    nbart_swir_3           (time, y, x) int16 1682 1874 1942 1832 1495 1315 ...\n",
       "Attributes:\n",
       "    crs:      EPSG:3577"
      ]
     },
     "execution_count": 6,
     "metadata": {},
     "output_type": "execute_result"
    }
   ],
   "source": [
    "data"
   ]
  },
  {
   "cell_type": "markdown",
   "metadata": {},
   "source": [
    "### Load data via a products native co-ordinate system\n",
    "\n",
    "By default, the *x* and *y* arguments accept queries in a geographical co-ordinate system WGS84, identified by the EPSG code *4326*, which is the same as within Google Earth.\n",
    "\n",
    "The user can also query via the native co-ordinate system that the product is stored in, and supply the *crs* argument."
   ]
  },
  {
   "cell_type": "code",
   "execution_count": 16,
   "metadata": {
    "collapsed": true
   },
   "outputs": [],
   "source": [
    "data = dc.load(product='ls5_nbar_albers', \n",
    "               x=(1543137.5, 1569137.5), y=(-4065537.5, -4096037.5), crs='EPSG:3577',\n",
    "               time=('2008-01-01', '2009-01-01'))"
   ]
  },
  {
   "cell_type": "code",
   "execution_count": 17,
   "metadata": {},
   "outputs": [
    {
     "data": {
      "text/plain": [
       "<xarray.Dataset>\n",
       "Dimensions:  (time: 7, x: 1041, y: 1221)\n",
       "Coordinates:\n",
       "  * time     (time) datetime64[ns] 2008-01-15T23:41:48.500000 ...\n",
       "  * y        (y) float64 -4.066e+06 -4.066e+06 -4.066e+06 -4.066e+06 ...\n",
       "  * x        (x) float64 1.543e+06 1.543e+06 1.543e+06 1.543e+06 1.543e+06 ...\n",
       "Data variables:\n",
       "    blue     (time, y, x) int16 3326 3326 3326 3326 3326 3326 3326 3326 3326 ...\n",
       "    green    (time, y, x) int16 6061 5882 5942 5853 5942 5972 6150 7088 7493 ...\n",
       "    red      (time, y, x) int16 5943 5792 5767 5717 5868 5792 6194 6370 6370 ...\n",
       "    nir      (time, y, x) int16 6678 6434 6504 6364 6504 6434 6749 7932 8866 ...\n",
       "    swir1    (time, y, x) int16 3155 2939 3179 3035 3323 3418 3825 4926 6002 ...\n",
       "    swir2    (time, y, x) int16 1784 1618 1884 1718 1884 1984 2350 3182 4113 ...\n",
       "Attributes:\n",
       "    crs:      EPSG:3577"
      ]
     },
     "execution_count": 17,
     "metadata": {},
     "output_type": "execute_result"
    }
   ],
   "source": [
    "data"
   ]
  },
  {
   "cell_type": "markdown",
   "metadata": {},
   "source": [
    "### Load specific measurements of a given product\n",
    "\n",
    "Some products have several *measurements* such as Landsat 5-TM, which for the *ls5_nbar_albers* product contains the following spectral measurements:\n",
    "\n",
    "* blue\n",
    "* green\n",
    "* red\n",
    "* nir\n",
    "* swir1\n",
    "* swir2\n",
    "\n",
    "In this next example we'll only load the *red* and *nir* measurements."
   ]
  },
  {
   "cell_type": "code",
   "execution_count": 18,
   "metadata": {
    "collapsed": true
   },
   "outputs": [],
   "source": [
    "data = dc.load(product='ls5_nbar_albers', \n",
    "               x=(149.25, 149.5), y=(-36.25, -36.5),\n",
    "               time=('2008-01-01', '2009-01-01'), \n",
    "               measurements=['red', 'nir'])"
   ]
  },
  {
   "cell_type": "code",
   "execution_count": 19,
   "metadata": {},
   "outputs": [
    {
     "data": {
      "text/plain": [
       "<xarray.Dataset>\n",
       "Dimensions:  (time: 7, x: 1041, y: 1221)\n",
       "Coordinates:\n",
       "  * time     (time) datetime64[ns] 2008-01-15T23:41:48.500000 ...\n",
       "  * y        (y) float64 -4.066e+06 -4.066e+06 -4.066e+06 -4.066e+06 ...\n",
       "  * x        (x) float64 1.543e+06 1.543e+06 1.543e+06 1.543e+06 1.543e+06 ...\n",
       "Data variables:\n",
       "    red      (time, y, x) int16 5943 5792 5767 5717 5868 5792 6194 6370 6370 ...\n",
       "    nir      (time, y, x) int16 6678 6434 6504 6364 6504 6434 6749 7932 8866 ...\n",
       "Attributes:\n",
       "    crs:      EPSG:3577"
      ]
     },
     "execution_count": 19,
     "metadata": {},
     "output_type": "execute_result"
    }
   ],
   "source": [
    "data"
   ]
  },
  {
   "cell_type": "markdown",
   "metadata": {
    "scrolled": true
   },
   "source": [
    "More information on the load function can be found on the datacube documentation website:\n",
    "\n",
    "http://datacube-core.readthedocs.io/en/stable/dev/generate/datacube.Datacube.load.html"
   ]
  }
 ],
 "metadata": {
  "kernelspec": {
   "display_name": "Python [default]",
   "language": "python",
   "name": "python3"
  },
  "language_info": {
   "codemirror_mode": {
    "name": "ipython",
    "version": 3
   },
   "file_extension": ".py",
   "mimetype": "text/x-python",
   "name": "python",
   "nbconvert_exporter": "python",
   "pygments_lexer": "ipython3",
   "version": "3.6.6"
  }
 },
 "nbformat": 4,
 "nbformat_minor": 1
}
