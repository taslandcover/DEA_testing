{
 "cells": [
  {
   "cell_type": "code",
   "execution_count": 1,
   "metadata": {},
   "outputs": [],
   "source": [
    "%matplotlib inline\n",
    "import warnings; warnings.simplefilter('ignore')\n",
    "\n",
    "import fnmatch\n",
    "import os\n",
    "import pandas as pd\n",
    "import geopandas as gpd\n",
    "\n",
    "from datacube_stats.statistics import GeoMedian\n",
    "from datacube.helpers import ga_pq_fuser\n",
    "from datacube.storage import masking\n",
    "from datacube.helpers import write_geotiff\n",
    "import xarray as xr\n",
    "\n",
    "#get the DEA version of the plotting functions\n",
    "import sys\n",
    "sys.path.append(os.path.abspath('/g/data/r78/DPIPWE_lm/dea-notebooks/10_Scripts'))\n",
    "import DEAPlotting\n",
    "import DEADataHandling\n",
    "\n",
    "\n",
    "import datacube\n",
    "dc = datacube.Datacube(app='stats_2nd_testing')"
   ]
  },
  {
   "cell_type": "code",
   "execution_count": 2,
   "metadata": {},
   "outputs": [],
   "source": [
    "#x, y = (1385000.0, 1390000.0), (-4570000.0, -4575000.0)\n",
    "sensors = ['ls8'] #take or remove as needed\n",
    "deriv = 'nbart'\n",
    "#product = 'nbart' #\n",
    "time = ('2016-10-01', '2016-12-31')\n",
    "resolution = (-50,50)\n",
    "bands = ['red', 'green', 'blue', 'nir', 'swir1', 'swir2']\n",
    "#epoch = ('2016', '2017') # time query for datacube function can be just years"
   ]
  },
  {
   "cell_type": "code",
   "execution_count": 3,
   "metadata": {},
   "outputs": [],
   "source": [
    "query = {'x': (1300000.0, 1400000.0),\n",
    "         'y': (-4700000.0, -4800000.0),\n",
    "         'time': time,\n",
    "         'resolution': resolution,\n",
    "         'crs': 'EPSG:3577'}"
   ]
  },
  {
   "cell_type": "code",
   "execution_count": 4,
   "metadata": {},
   "outputs": [
    {
     "name": "stdout",
     "output_type": "stream",
     "text": [
      "Loading ls8 pixel quality\n",
      "    Loading 12 filtered ls8 timesteps\n",
      "Combining and sorting ls8 data\n",
      "    Replacing invalid -999 values with NaN (data will be coerced to float64)\n"
     ]
    }
   ],
   "source": [
    "dsma = DEADataHandling.load_clearlandsat(dc=dc, query=query,\n",
    "                                          #product=product,\n",
    "                                          masked_prop=0,\n",
    "                                          sensors = sensors,\n",
    "                                          bands_of_interest = bands,\n",
    "                                          mask_pixel_quality=True,\n",
    "                                          ls7_slc_off=True)"
   ]
  },
  {
   "cell_type": "code",
   "execution_count": 5,
   "metadata": {},
   "outputs": [
    {
     "data": {
      "text/plain": [
       "<xarray.Dataset>\n",
       "Dimensions:    (time: 12, x: 2000, y: 2000)\n",
       "Coordinates:\n",
       "  * y          (y) float64 -4.7e+06 -4.7e+06 -4.7e+06 ... -4.8e+06 -4.8e+06\n",
       "  * x          (x) float64 1.3e+06 1.3e+06 1.3e+06 ... 1.4e+06 1.4e+06 1.4e+06\n",
       "  * time       (time) datetime64[ns] 2016-10-03T23:52:33 ... 2016-12-31T23:46:20\n",
       "Data variables:\n",
       "    red        (time, y, x) float64 nan nan nan nan nan ... nan nan nan nan nan\n",
       "    green      (time, y, x) float64 nan nan nan nan nan ... nan nan nan nan nan\n",
       "    blue       (time, y, x) float64 nan nan nan nan nan ... nan nan nan nan nan\n",
       "    nir        (time, y, x) float64 nan nan nan nan nan ... nan nan nan nan nan\n",
       "    swir1      (time, y, x) float64 nan nan nan nan nan ... nan nan nan nan nan\n",
       "    swir2      (time, y, x) float64 nan nan nan nan nan ... nan nan nan nan nan\n",
       "    data_perc  (time, y, x) float64 nan nan nan nan nan ... nan nan nan nan nan\n",
       "Attributes:\n",
       "    crs:      EPSG:3577"
      ]
     },
     "execution_count": 5,
     "metadata": {},
     "output_type": "execute_result"
    }
   ],
   "source": [
    "dsma"
   ]
  },
  {
   "cell_type": "code",
   "execution_count": 37,
   "metadata": {},
   "outputs": [],
   "source": [
    "from model import SMAD, TernaryMAD"
   ]
  },
  {
   "cell_type": "code",
   "execution_count": null,
   "metadata": {},
   "outputs": [],
   "source": []
  },
  {
   "cell_type": "code",
   "execution_count": 29,
   "metadata": {},
   "outputs": [
    {
     "data": {
      "text/plain": [
       "<model.CosineDistanceMAD at 0x7f4e428916a0>"
      ]
     },
     "execution_count": 29,
     "metadata": {},
     "output_type": "execute_result"
    }
   ],
   "source": [
    "SMAD(dsma)"
   ]
  },
  {
   "cell_type": "code",
   "execution_count": 38,
   "metadata": {},
   "outputs": [],
   "source": [
    "dsma_smad = TernaryMAD().compute(dsma)"
   ]
  },
  {
   "cell_type": "code",
   "execution_count": 39,
   "metadata": {},
   "outputs": [
    {
     "data": {
      "text/plain": [
       "<xarray.Dataset>\n",
       "Dimensions:  (x: 2000, y: 2000)\n",
       "Dimensions without coordinates: x, y\n",
       "Data variables:\n",
       "    sdev     (y, x) float32 0.0012462151 0.004304504 ... 0.0007072464\n",
       "    edev     (y, x) float32 0.017819311 0.050129905 ... 0.028593507 0.0366869\n",
       "    bcdev    (y, x) float32 0.033000797 0.07529552 ... 0.13990852 0.17620553"
      ]
     },
     "execution_count": 39,
     "metadata": {},
     "output_type": "execute_result"
    }
   ],
   "source": [
    "dsma_smad"
   ]
  },
  {
   "cell_type": "code",
   "execution_count": 46,
   "metadata": {},
   "outputs": [
    {
     "ename": "ValueError",
     "evalue": "One or more of the specified variables cannot be found in this dataset",
     "output_type": "error",
     "traceback": [
      "\u001b[0;31m---------------------------------------------------------------------------\u001b[0m",
      "\u001b[0;31mValueError\u001b[0m                                Traceback (most recent call last)",
      "\u001b[0;32m<ipython-input-46-4cb76fc7a924>\u001b[0m in \u001b[0;36m<module>\u001b[0;34m\u001b[0m\n\u001b[0;32m----> 1\u001b[0;31m \u001b[0mdsma_smad\u001b[0m\u001b[0;34m.\u001b[0m\u001b[0mset_coords\u001b[0m\u001b[0;34m(\u001b[0m\u001b[0;34m[\u001b[0m\u001b[0;34m'x'\u001b[0m\u001b[0;34m,\u001b[0m \u001b[0;34m'y'\u001b[0m\u001b[0;34m]\u001b[0m\u001b[0;34m)\u001b[0m\u001b[0;34m\u001b[0m\u001b[0m\n\u001b[0m",
      "\u001b[0;32m/g/data/v10/public/modules/dea-env/20181015/lib/python3.6/site-packages/xarray/core/dataset.py\u001b[0m in \u001b[0;36mset_coords\u001b[0;34m(self, names, inplace)\u001b[0m\n\u001b[1;32m   1117\u001b[0m         \u001b[0;32mif\u001b[0m \u001b[0misinstance\u001b[0m\u001b[0;34m(\u001b[0m\u001b[0mnames\u001b[0m\u001b[0;34m,\u001b[0m \u001b[0mbasestring\u001b[0m\u001b[0;34m)\u001b[0m\u001b[0;34m:\u001b[0m\u001b[0;34m\u001b[0m\u001b[0m\n\u001b[1;32m   1118\u001b[0m             \u001b[0mnames\u001b[0m \u001b[0;34m=\u001b[0m \u001b[0;34m[\u001b[0m\u001b[0mnames\u001b[0m\u001b[0;34m]\u001b[0m\u001b[0;34m\u001b[0m\u001b[0m\n\u001b[0;32m-> 1119\u001b[0;31m         \u001b[0mself\u001b[0m\u001b[0;34m.\u001b[0m\u001b[0m_assert_all_in_dataset\u001b[0m\u001b[0;34m(\u001b[0m\u001b[0mnames\u001b[0m\u001b[0;34m)\u001b[0m\u001b[0;34m\u001b[0m\u001b[0m\n\u001b[0m\u001b[1;32m   1120\u001b[0m         \u001b[0mobj\u001b[0m \u001b[0;34m=\u001b[0m \u001b[0mself\u001b[0m \u001b[0;32mif\u001b[0m \u001b[0minplace\u001b[0m \u001b[0;32melse\u001b[0m \u001b[0mself\u001b[0m\u001b[0;34m.\u001b[0m\u001b[0mcopy\u001b[0m\u001b[0;34m(\u001b[0m\u001b[0;34m)\u001b[0m\u001b[0;34m\u001b[0m\u001b[0m\n\u001b[1;32m   1121\u001b[0m         \u001b[0mobj\u001b[0m\u001b[0;34m.\u001b[0m\u001b[0m_coord_names\u001b[0m\u001b[0;34m.\u001b[0m\u001b[0mupdate\u001b[0m\u001b[0;34m(\u001b[0m\u001b[0mnames\u001b[0m\u001b[0;34m)\u001b[0m\u001b[0;34m\u001b[0m\u001b[0m\n",
      "\u001b[0;32m/g/data/v10/public/modules/dea-env/20181015/lib/python3.6/site-packages/xarray/core/dataset.py\u001b[0m in \u001b[0;36m_assert_all_in_dataset\u001b[0;34m(self, names, virtual_okay)\u001b[0m\n\u001b[1;32m   2579\u001b[0m             \u001b[0mbad_names\u001b[0m \u001b[0;34m-=\u001b[0m \u001b[0mself\u001b[0m\u001b[0;34m.\u001b[0m\u001b[0mvirtual_variables\u001b[0m\u001b[0;34m\u001b[0m\u001b[0m\n\u001b[1;32m   2580\u001b[0m         \u001b[0;32mif\u001b[0m \u001b[0mbad_names\u001b[0m\u001b[0;34m:\u001b[0m\u001b[0;34m\u001b[0m\u001b[0m\n\u001b[0;32m-> 2581\u001b[0;31m             raise ValueError('One or more of the specified variables '\n\u001b[0m\u001b[1;32m   2582\u001b[0m                              'cannot be found in this dataset')\n\u001b[1;32m   2583\u001b[0m \u001b[0;34m\u001b[0m\u001b[0m\n",
      "\u001b[0;31mValueError\u001b[0m: One or more of the specified variables cannot be found in this dataset"
     ]
    }
   ],
   "source": [
    "dsma_smad.set_coords(['x', 'y'])"
   ]
  },
  {
   "cell_type": "code",
   "execution_count": 22,
   "metadata": {},
   "outputs": [],
   "source": [
    "dsma_smad.attrs['crs'] = 'EPSG:3577'\n",
    "dsma_smad.attrs['affine'] = dsma.affine"
   ]
  },
  {
   "cell_type": "code",
   "execution_count": 25,
   "metadata": {},
   "outputs": [
    {
     "ename": "AttributeError",
     "evalue": "'str' object has no attribute 'geographic'",
     "output_type": "error",
     "traceback": [
      "\u001b[0;31m---------------------------------------------------------------------------\u001b[0m",
      "\u001b[0;31mAttributeError\u001b[0m                            Traceback (most recent call last)",
      "\u001b[0;32m<ipython-input-25-5095c7761ca2>\u001b[0m in \u001b[0;36m<module>\u001b[0;34m\u001b[0m\n\u001b[0;32m----> 1\u001b[0;31m \u001b[0mdatacube\u001b[0m\u001b[0;34m.\u001b[0m\u001b[0mstorage\u001b[0m\u001b[0;34m.\u001b[0m\u001b[0mstorage\u001b[0m\u001b[0;34m.\u001b[0m\u001b[0mwrite_dataset_to_netcdf\u001b[0m\u001b[0;34m(\u001b[0m\u001b[0mdsma_smad\u001b[0m\u001b[0;34m,\u001b[0m \u001b[0;34m'ls8_smad_test.nc'\u001b[0m\u001b[0;34m)\u001b[0m\u001b[0;34m\u001b[0m\u001b[0m\n\u001b[0m\u001b[1;32m      2\u001b[0m \u001b[0;31m#datacube.helpers.write_geotiff(filename='ls8_smad_test.tif', dataset=dsma_smad)\u001b[0m\u001b[0;34m\u001b[0m\u001b[0;34m\u001b[0m\u001b[0m\n\u001b[1;32m      3\u001b[0m \u001b[0;31m#DEADataHandling.dataset_to_geotiff('dsma_smad_netcdf_test.nc', dsma_smad)\u001b[0m\u001b[0;34m\u001b[0m\u001b[0;34m\u001b[0m\u001b[0m\n",
      "\u001b[0;32m/g/data/v10/public/modules/dea/20181015/lib/python3.6/site-packages/datacube/storage/storage.py\u001b[0m in \u001b[0;36mwrite_dataset_to_netcdf\u001b[0;34m(dataset, filename, global_attributes, variable_params, netcdfparams)\u001b[0m\n\u001b[1;32m    636\u001b[0m                                      \u001b[0mvariable_params\u001b[0m\u001b[0;34m,\u001b[0m\u001b[0;34m\u001b[0m\u001b[0m\n\u001b[1;32m    637\u001b[0m                                      \u001b[0mglobal_attributes\u001b[0m\u001b[0;34m,\u001b[0m\u001b[0;34m\u001b[0m\u001b[0m\n\u001b[0;32m--> 638\u001b[0;31m                                      netcdfparams)\n\u001b[0m\u001b[1;32m    639\u001b[0m \u001b[0;34m\u001b[0m\u001b[0m\n\u001b[1;32m    640\u001b[0m     \u001b[0;32mfor\u001b[0m \u001b[0mname\u001b[0m\u001b[0;34m,\u001b[0m \u001b[0mvariable\u001b[0m \u001b[0;32min\u001b[0m \u001b[0mdataset\u001b[0m\u001b[0;34m.\u001b[0m\u001b[0mdata_vars\u001b[0m\u001b[0;34m.\u001b[0m\u001b[0mitems\u001b[0m\u001b[0;34m(\u001b[0m\u001b[0;34m)\u001b[0m\u001b[0;34m:\u001b[0m\u001b[0;34m\u001b[0m\u001b[0m\n",
      "\u001b[0;32m/g/data/v10/public/modules/dea/20181015/lib/python3.6/site-packages/datacube/storage/storage.py\u001b[0m in \u001b[0;36mcreate_netcdf_storage_unit\u001b[0;34m(filename, crs, coordinates, variables, variable_params, global_attributes, netcdfparams)\u001b[0m\n\u001b[1;32m    588\u001b[0m         \u001b[0mnetcdf_writer\u001b[0m\u001b[0;34m.\u001b[0m\u001b[0mcreate_coordinate\u001b[0m\u001b[0;34m(\u001b[0m\u001b[0mnco\u001b[0m\u001b[0;34m,\u001b[0m \u001b[0mname\u001b[0m\u001b[0;34m,\u001b[0m \u001b[0mcoord\u001b[0m\u001b[0;34m.\u001b[0m\u001b[0mvalues\u001b[0m\u001b[0;34m,\u001b[0m \u001b[0mcoord\u001b[0m\u001b[0;34m.\u001b[0m\u001b[0munits\u001b[0m\u001b[0;34m)\u001b[0m\u001b[0;34m\u001b[0m\u001b[0m\n\u001b[1;32m    589\u001b[0m \u001b[0;34m\u001b[0m\u001b[0m\n\u001b[0;32m--> 590\u001b[0;31m     \u001b[0mnetcdf_writer\u001b[0m\u001b[0;34m.\u001b[0m\u001b[0mcreate_grid_mapping_variable\u001b[0m\u001b[0;34m(\u001b[0m\u001b[0mnco\u001b[0m\u001b[0;34m,\u001b[0m \u001b[0mcrs\u001b[0m\u001b[0;34m)\u001b[0m\u001b[0;34m\u001b[0m\u001b[0m\n\u001b[0m\u001b[1;32m    591\u001b[0m \u001b[0;34m\u001b[0m\u001b[0m\n\u001b[1;32m    592\u001b[0m     \u001b[0;32mfor\u001b[0m \u001b[0mname\u001b[0m\u001b[0;34m,\u001b[0m \u001b[0mvariable\u001b[0m \u001b[0;32min\u001b[0m \u001b[0mvariables\u001b[0m\u001b[0;34m.\u001b[0m\u001b[0mitems\u001b[0m\u001b[0;34m(\u001b[0m\u001b[0;34m)\u001b[0m\u001b[0;34m:\u001b[0m\u001b[0;34m\u001b[0m\u001b[0m\n",
      "\u001b[0;32m/g/data/v10/public/modules/dea/20181015/lib/python3.6/site-packages/datacube/storage/netcdf_writer.py\u001b[0m in \u001b[0;36mcreate_grid_mapping_variable\u001b[0;34m(nco, crs)\u001b[0m\n\u001b[1;32m    223\u001b[0m \u001b[0;34m\u001b[0m\u001b[0m\n\u001b[1;32m    224\u001b[0m \u001b[0;32mdef\u001b[0m \u001b[0mcreate_grid_mapping_variable\u001b[0m\u001b[0;34m(\u001b[0m\u001b[0mnco\u001b[0m\u001b[0;34m,\u001b[0m \u001b[0mcrs\u001b[0m\u001b[0;34m)\u001b[0m\u001b[0;34m:\u001b[0m\u001b[0;34m\u001b[0m\u001b[0m\n\u001b[0;32m--> 225\u001b[0;31m     \u001b[0;32mif\u001b[0m \u001b[0mcrs\u001b[0m\u001b[0;34m.\u001b[0m\u001b[0mgeographic\u001b[0m\u001b[0;34m:\u001b[0m\u001b[0;34m\u001b[0m\u001b[0m\n\u001b[0m\u001b[1;32m    226\u001b[0m         \u001b[0mcrs_var\u001b[0m \u001b[0;34m=\u001b[0m \u001b[0m_create_latlon_grid_mapping_variable\u001b[0m\u001b[0;34m(\u001b[0m\u001b[0mnco\u001b[0m\u001b[0;34m,\u001b[0m \u001b[0mcrs\u001b[0m\u001b[0;34m)\u001b[0m\u001b[0;34m\u001b[0m\u001b[0m\n\u001b[1;32m    227\u001b[0m     \u001b[0;32melif\u001b[0m \u001b[0mcrs\u001b[0m\u001b[0;34m.\u001b[0m\u001b[0mprojected\u001b[0m\u001b[0;34m:\u001b[0m\u001b[0;34m\u001b[0m\u001b[0m\n",
      "\u001b[0;31mAttributeError\u001b[0m: 'str' object has no attribute 'geographic'"
     ]
    }
   ],
   "source": [
    "datacube.storage.storage.write_dataset_to_netcdf(dsma_smad, 'ls8_smad_test.nc')\n",
    "#datacube.helpers.write_geotiff(filename='ls8_smad_test.tif', dataset=dsma_smad)\n",
    "#DEADataHandling.dataset_to_geotiff('dsma_smad_netcdf_test.nc', dsma_smad)"
   ]
  },
  {
   "cell_type": "code",
   "execution_count": null,
   "metadata": {},
   "outputs": [],
   "source": []
  }
 ],
 "metadata": {
  "kernelspec": {
   "display_name": "Python [default]",
   "language": "python",
   "name": "python3"
  },
  "language_info": {
   "codemirror_mode": {
    "name": "ipython",
    "version": 3
   },
   "file_extension": ".py",
   "mimetype": "text/x-python",
   "name": "python",
   "nbconvert_exporter": "python",
   "pygments_lexer": "ipython3",
   "version": "3.6.6"
  }
 },
 "nbformat": 4,
 "nbformat_minor": 2
}
