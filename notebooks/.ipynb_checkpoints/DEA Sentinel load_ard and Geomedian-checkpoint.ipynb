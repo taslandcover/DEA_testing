{
 "cells": [
  {
   "cell_type": "markdown",
   "metadata": {},
   "source": [
    "# Find and load Sentinel 2 ARD Data using load_ard\n",
    "This notebook uses the load_ard (load Analysis Ready Data) function to find and load Sentinel 2 data. The notebook also calulates the geomedian for the loaded data.\n",
    "\n"
   ]
  },
  {
   "cell_type": "code",
   "execution_count": 1,
   "metadata": {},
   "outputs": [],
   "source": [
    "#What can be deleted here?\n",
    "%matplotlib inline\n",
    "\n",
    "import warnings; warnings.simplefilter('ignore')\n",
    "import matplotlib.pyplot as plt\n",
    "import datacube\n",
    "import fnmatch\n",
    "import os\n",
    "import pandas as pd\n",
    "import geopandas as gpd\n",
    "\n",
    "#get the DEA version of the plotting functions\n",
    "import sys\n",
    "sys.path.append(os.path.abspath('/g/data/r78/DPIPWE_lm/repos/dea-notebooks/Scripts'))\n",
    "from dea_datahandling import load_ard\n",
    "import dea_plotting\n",
    "from dea_plotting import rgb\n",
    "from datacube_stats.statistics import GeoMedian\n",
    "from datacube.helpers import ga_pq_fuser\n",
    "from datacube.storage import masking\n",
    "from datacube.helpers import write_geotiff\n",
    "from datacube.drivers.netcdf import write_dataset_to_netcdf\n",
    "import xarray as xr\n",
    "\n",
    "#Specify output directory\n",
    "outputdir = '/g/data/r78/DPIPWE_lm/output_data/'\n",
    "if not os.path.exists(outputdir):\n",
    "    print(\"output directory doesn't exist\")\n",
    "    exit()"
   ]
  },
  {
   "cell_type": "code",
   "execution_count": 2,
   "metadata": {},
   "outputs": [],
   "source": [
    "# Connect to datacube containing Sentinel 2 data\n",
    "dc_sentinel2 = datacube.Datacube(app='Using_load_ard')\n",
    "\n",
    "\n",
    "# Temporary solution to account for Collection 3 data being in a different\n",
    "# database on the NCI (is this landsat only??)\n",
    "try:\n",
    "    dc_landsat = datacube.Datacube(app='Using_load_ard', env='c3-samples')\n",
    "except:\n",
    "    dc_landsat = datacube.Datacube(app='Using_load_ard')\n",
    "    \n",
    "#dc = datacube.Datacube(app='load_sentinel_example')"
   ]
  },
  {
   "cell_type": "code",
   "execution_count": 5,
   "metadata": {},
   "outputs": [],
   "source": [
    "# Create a reusable query (can change resolution and/or bands here if needed)\n",
    "query = {\n",
    "    'lat': (-40.188, -40.214),\n",
    "    'lon': (148.228, 148.268),\n",
    "    'time': ('2018-12', '2019-03'), # Months or day can be specified here\n",
    "    'measurements': ['nbart_blue', 'nbart_green', 'nbart_red', 'nbart_nir_1'],\n",
    "    'output_crs': 'EPSG:3577',\n",
    "    'resolution': (-20, 20),\n",
    "    'group_by': 'solar_day'\n",
    "}"
   ]
  },
  {
   "cell_type": "code",
   "execution_count": null,
   "metadata": {},
   "outputs": [
    {
     "name": "stdout",
     "output_type": "stream",
     "text": [
      "Loading s2a_ard_granule data\n"
     ]
    }
   ],
   "source": [
    "# Load available data from both Sentinel 2 satellites\n",
    "ds = load_ard(dc=dc_sentinel2,\n",
    "              products=['s2a_ard_granule', 's2b_ard_granule'],\n",
    "              **query)\n",
    "\n",
    "# Print output data\n",
    "print(ds)"
   ]
  },
  {
   "cell_type": "code",
   "execution_count": null,
   "metadata": {
    "scrolled": true
   },
   "outputs": [],
   "source": [
    "# Plot single observation\n",
    "#ds.isel(time=6).nbart_nir_1.plot() # Plot time slice 6\n",
    "#plt.show()\n",
    "\n",
    "# This will plot all time slices so can take a while for large cubes\n",
    "rgb(ds, percentile_stretch=(0.05, 0.95), col='time', col_wrap=5)"
   ]
  },
  {
   "cell_type": "markdown",
   "metadata": {},
   "source": [
    "# Monthly Filter and Geomedian Creation\n",
    "\n",
    "The cells below run through the process used to filter an existing S2 datacube by month and then produce\n",
    "a geomedian image. This type of process is useful where only dry season images are required e.g. for producing\n",
    "dry season composite images."
   ]
  },
  {
   "cell_type": "code",
   "execution_count": null,
   "metadata": {},
   "outputs": [],
   "source": [
    "# function to return months of interest (cm = composite month)\n",
    "def is_cm(month):\n",
    "    return (month >= 11) | (month <= 4)"
   ]
  },
  {
   "cell_type": "code",
   "execution_count": null,
   "metadata": {},
   "outputs": [],
   "source": [
    "# extract just the months of interest\n",
    "ds_cm = ds.sel(time=is_cm(ds['time.month']))\n",
    "\n",
    "ds_cm['time.month'] #take a look at what months we have..."
   ]
  },
  {
   "cell_type": "code",
   "execution_count": null,
   "metadata": {},
   "outputs": [],
   "source": [
    "ds_cm"
   ]
  },
  {
   "cell_type": "code",
   "execution_count": null,
   "metadata": {},
   "outputs": [],
   "source": [
    "# Compute geomedian here is necessary - either for dataset or subset months\n",
    "ds_cm_gm = GeoMedian().compute(ds_cm)"
   ]
  },
  {
   "cell_type": "code",
   "execution_count": null,
   "metadata": {},
   "outputs": [],
   "source": [
    "ds_cm_gm"
   ]
  },
  {
   "cell_type": "code",
   "execution_count": null,
   "metadata": {},
   "outputs": [],
   "source": [
    "# Plot geomedian image\n",
    "rgb(ds_cm_gm, percentile_stretch=(0.05, 0.95))"
   ]
  },
  {
   "cell_type": "code",
   "execution_count": null,
   "metadata": {},
   "outputs": [],
   "source": [
    "# Here we can export the geomedian\n",
    "# There is no time dimension so the next line can be ignored\n",
    "#rgb_tiff = ds.isel(time=1)\n",
    "\n",
    "# Write multi-band GeoTIFF to a location\n",
    "write_geotiff(outputdir + 'Sent2_gomedian.tif', ds_cm_gm)"
   ]
  },
  {
   "cell_type": "code",
   "execution_count": null,
   "metadata": {},
   "outputs": [],
   "source": []
  }
 ],
 "metadata": {
  "kernelspec": {
   "display_name": "Python 3",
   "language": "python",
   "name": "python3"
  },
  "language_info": {
   "codemirror_mode": {
    "name": "ipython",
    "version": 3
   },
   "file_extension": ".py",
   "mimetype": "text/x-python",
   "name": "python",
   "nbconvert_exporter": "python",
   "pygments_lexer": "ipython3",
   "version": "3.6.7"
  }
 },
 "nbformat": 4,
 "nbformat_minor": 2
}
