{
 "cells": [
  {
   "cell_type": "code",
   "execution_count": 2,
   "metadata": {},
   "outputs": [],
   "source": [
    "%matplotlib inline\n",
    "import warnings; warnings.simplefilter('ignore')\n",
    "\n",
    "import fnmatch\n",
    "import os\n",
    "import pandas as pd\n",
    "import geopandas as gpd\n",
    "\n",
    "from datacube_stats.statistics import GeoMedian\n",
    "from datacube.helpers import ga_pq_fuser\n",
    "from datacube.storage import masking\n",
    "from datacube.helpers import write_geotiff\n",
    "import xarray as xr\n",
    "\n",
    "#get the DEA version of the plotting functions\n",
    "import sys\n",
    "sys.path.append(os.path.abspath('/g/data/r78/DPIPWE_lm/dea-notebooks/10_Scripts'))\n",
    "sys.path.append(os.path.abspath('/g/data/r78/DPIPWE_lm/datacube-2nd-order-stats'))\n",
    "import DEAPlotting\n",
    "import DEADataHandling\n",
    "\n",
    "\n",
    "import datacube\n",
    "dc = datacube.Datacube(app='stats_2nd_testing')"
   ]
  },
  {
   "cell_type": "code",
   "execution_count": 3,
   "metadata": {},
   "outputs": [],
   "source": [
    "#x, y = (1385000.0, 1390000.0), (-4570000.0, -4575000.0)\n",
    "sensors = ['ls8', 'ls7'] #take or remove as needed\n",
    "deriv = 'nbart'\n",
    "#product = 'nbart' #\n",
    "time = ('2016-10-01', '2016-12-31')\n",
    "resolution = (-100,100)\n",
    "bands = ['red', 'green', 'blue', 'nir', 'swir1', 'swir2']\n",
    "#epoch = ('2016', '2017') # time query for datacube function can be just years"
   ]
  },
  {
   "cell_type": "code",
   "execution_count": 4,
   "metadata": {},
   "outputs": [],
   "source": [
    "query = {'x': (1300000.0, 1400000.0),\n",
    "         'y': (-4700000.0, -4800000.0),\n",
    "         'time': time,\n",
    "         'resolution': resolution,\n",
    "         'crs': 'EPSG:3577'}"
   ]
  },
  {
   "cell_type": "code",
   "execution_count": 5,
   "metadata": {},
   "outputs": [
    {
     "name": "stdout",
     "output_type": "stream",
     "text": [
      "Loading ls8 pixel quality\n",
      "    Loading 12 filtered ls8 timesteps\n",
      "Loading ls7 pixel quality\n",
      "    Loading 3 filtered ls7 timesteps\n",
      "Combining and sorting ls8, ls7 data\n",
      "    Replacing invalid -999 values with NaN (data will be coerced to float64)\n"
     ]
    },
    {
     "data": {
      "text/plain": [
       "\"\\ndsma = dc.load(product='ls8_nbart_albers', group_by = 'solar_day', **query)\\n\""
      ]
     },
     "execution_count": 5,
     "metadata": {},
     "output_type": "execute_result"
    }
   ],
   "source": [
    "dsma = DEADataHandling.load_clearlandsat(dc=dc, query=query,\n",
    "                                          #product=product,\n",
    "                                          masked_prop=0,\n",
    "                                          sensors = sensors,\n",
    "                                          bands_of_interest = bands,\n",
    "                                          mask_pixel_quality=True,\n",
    "                                          ls7_slc_off=True)\n",
    "'''\n",
    "dsma = dc.load(product='ls8_nbart_albers', group_by = 'solar_day', **query)\n",
    "'''"
   ]
  },
  {
   "cell_type": "code",
   "execution_count": 47,
   "metadata": {},
   "outputs": [],
   "source": [
    "# Load PQ data for same query used to load Landsat data\n",
    "pq_dsma = dc.load(product = 'ls8_pq_albers',\n",
    "                group_by = 'solar_day',\n",
    "                fuse_func=ga_pq_fuser,\n",
    "                **query)\n",
    "\n",
    "# Use PQ to create mask that is True for pixels that are not affected by clouds, cloud shadow or saturation\n",
    "good_quality = masking.make_mask(pq_dsma.pixelquality,\n",
    "                                 cloud_acca='no_cloud',\n",
    "                                 cloud_fmask='no_cloud',\n",
    "                                 cloud_shadow_acca='no_cloud_shadow',\n",
    "                                 cloud_shadow_fmask='no_cloud_shadow',\n",
    "                                 blue_saturated=False,\n",
    "                                 green_saturated=False,\n",
    "                                 red_saturated=False,\n",
    "                                 nir_saturated=False,\n",
    "                                 swir1_saturated=False,\n",
    "                                 swir2_saturated=False,\n",
    "                                 contiguous=True)"
   ]
  },
  {
   "cell_type": "code",
   "execution_count": 48,
   "metadata": {},
   "outputs": [],
   "source": [
    "# Remove -999 nodata values prior to analysing or plotting Landsat imagery by setting all nodata values to `NaN`\n",
    "dsma = masking.mask_invalid_data(dsma)\n",
    "\n",
    "# Apply the mask to preserve only the good data\n",
    "dsma = dsma.where(good_quality)"
   ]
  },
  {
   "cell_type": "code",
   "execution_count": 6,
   "metadata": {},
   "outputs": [
    {
     "data": {
      "text/plain": [
       "<xarray.Dataset>\n",
       "Dimensions:    (time: 15, x: 1000, y: 1000)\n",
       "Coordinates:\n",
       "  * y          (y) float64 -4.7e+06 -4.7e+06 -4.7e+06 ... -4.8e+06 -4.8e+06\n",
       "  * x          (x) float64 1.3e+06 1.3e+06 1.3e+06 ... 1.4e+06 1.4e+06 1.4e+06\n",
       "  * time       (time) datetime64[ns] 2016-10-03T23:52:33 ... 2016-12-31T23:46:20\n",
       "Data variables:\n",
       "    red        (time, y, x) float64 nan nan nan nan nan ... nan nan nan nan nan\n",
       "    green      (time, y, x) float64 nan nan nan nan nan ... nan nan nan nan nan\n",
       "    blue       (time, y, x) float64 nan nan nan nan nan ... nan nan nan nan nan\n",
       "    nir        (time, y, x) float64 nan nan nan nan nan ... nan nan nan nan nan\n",
       "    swir1      (time, y, x) float64 nan nan nan nan nan ... nan nan nan nan nan\n",
       "    swir2      (time, y, x) float64 nan nan nan nan nan ... nan nan nan nan nan\n",
       "    data_perc  (time, y, x) float64 nan nan nan nan nan ... nan nan nan nan nan\n",
       "Attributes:\n",
       "    crs:      EPSG:3577"
      ]
     },
     "execution_count": 6,
     "metadata": {},
     "output_type": "execute_result"
    }
   ],
   "source": [
    "dsma\n",
    "# Proably need to drop the 'data_perc' band (or load data via different method?)"
   ]
  },
  {
   "cell_type": "code",
   "execution_count": 7,
   "metadata": {},
   "outputs": [],
   "source": [
    "dsma_sub = dsma.drop('data_perc')"
   ]
  },
  {
   "cell_type": "code",
   "execution_count": 8,
   "metadata": {},
   "outputs": [],
   "source": [
    "dsma = dsma_sub"
   ]
  },
  {
   "cell_type": "code",
   "execution_count": 9,
   "metadata": {},
   "outputs": [],
   "source": [
    "from model import SMAD, BCMAD, TernaryMAD\n",
    "#import datacube_stats"
   ]
  },
  {
   "cell_type": "code",
   "execution_count": 10,
   "metadata": {},
   "outputs": [],
   "source": [
    "dsma_smad = TernaryMAD().compute(dsma)"
   ]
  },
  {
   "cell_type": "code",
   "execution_count": 11,
   "metadata": {},
   "outputs": [
    {
     "data": {
      "text/plain": [
       "<xarray.Dataset>\n",
       "Dimensions:  (x: 1000, y: 1000)\n",
       "Dimensions without coordinates: x, y\n",
       "Data variables:\n",
       "    sdev     (y, x) float32 0.0065301955 0.001970092 ... 0.0013781824\n",
       "    edev     (y, x) float32 0.062278338 0.06565867 ... 0.030250093 0.03549037\n",
       "    bcdev    (y, x) float32 0.11148775 0.112365335 ... 0.13912831 0.17483841"
      ]
     },
     "execution_count": 11,
     "metadata": {},
     "output_type": "execute_result"
    }
   ],
   "source": [
    "#dsma_tmad\n",
    "dsma_smad"
   ]
  },
  {
   "cell_type": "code",
   "execution_count": 12,
   "metadata": {},
   "outputs": [
    {
     "data": {
      "text/plain": [
       "<xarray.DataArray 'bcdev' (y: 1000, x: 1000)>\n",
       "array([[0.111488, 0.112365, 0.129521, ..., 0.118699, 0.179835, 0.107692],\n",
       "       [0.039324, 0.097063, 0.070703, ..., 0.20067 , 0.114142, 0.176149],\n",
       "       [0.      , 0.200132, 0.113289, ..., 0.145098, 0.188263, 0.172206],\n",
       "       ...,\n",
       "       [0.049541, 0.051778, 0.036684, ..., 0.252089, 0.178835, 0.084949],\n",
       "       [0.046041, 0.040124, 0.029713, ..., 0.15886 , 0.061667, 0.110157],\n",
       "       [0.038469, 0.039168, 0.039816, ..., 0.352061, 0.139128, 0.174838]],\n",
       "      dtype=float32)\n",
       "Dimensions without coordinates: y, x"
      ]
     },
     "execution_count": 12,
     "metadata": {},
     "output_type": "execute_result"
    }
   ],
   "source": [
    "dsma_smad.bcdev"
   ]
  },
  {
   "cell_type": "code",
   "execution_count": 20,
   "metadata": {},
   "outputs": [],
   "source": [
    "#ds=xr.Dataset({'bcmad': (['y','x'], dsma_smad.bcdev)}, coords={'x': dsma.x, 'y':dsma.y}, attrs=dsma.attrs)\n",
    "ds=xr.Dataset({'smad': (['y','x'], dsma_smad.sdev), \n",
    "               'emad': (['y','x'], dsma_smad.edev), \n",
    "               'bcmad': (['y','x'], dsma_smad.bcdev)},\n",
    "                coords={'x': dsma.x, 'y':dsma.y}, attrs=dsma.attrs)"
   ]
  },
  {
   "cell_type": "code",
   "execution_count": 21,
   "metadata": {},
   "outputs": [
    {
     "data": {
      "text/plain": [
       "<xarray.Dataset>\n",
       "Dimensions:  (x: 1000, y: 1000)\n",
       "Coordinates:\n",
       "  * x        (x) float64 1.3e+06 1.3e+06 1.3e+06 ... 1.4e+06 1.4e+06 1.4e+06\n",
       "  * y        (y) float64 -4.7e+06 -4.7e+06 -4.7e+06 ... -4.8e+06 -4.8e+06\n",
       "Data variables:\n",
       "    smad     (y, x) float32 0.0065301955 0.001970092 ... 0.0013781824\n",
       "    emad     (y, x) float32 0.062278338 0.06565867 ... 0.030250093 0.03549037\n",
       "    bcmad    (y, x) float32 0.11148775 0.112365335 ... 0.13912831 0.17483841\n",
       "Attributes:\n",
       "    crs:      EPSG:3577"
      ]
     },
     "execution_count": 21,
     "metadata": {},
     "output_type": "execute_result"
    }
   ],
   "source": [
    "ds"
   ]
  },
  {
   "cell_type": "code",
   "execution_count": 88,
   "metadata": {},
   "outputs": [
    {
     "data": {
      "text/plain": [
       "<xarray.Dataset>\n",
       "Dimensions:  (x: 2000, y: 2000)\n",
       "Coordinates:\n",
       "  * x        (x) float64 1.3e+06 1.3e+06 1.3e+06 ... 1.4e+06 1.4e+06 1.4e+06\n",
       "  * y        (y) float64 -4.7e+06 -4.7e+06 -4.7e+06 ... -4.8e+06 -4.8e+06\n",
       "Data variables:\n",
       "    smad     (y, x) float32 0.0035821546 0.0077772085 ... 0.0007054704\n",
       "Attributes:\n",
       "    crs:      EPSG:3577"
      ]
     },
     "execution_count": 88,
     "metadata": {},
     "output_type": "execute_result"
    }
   ],
   "source": [
    "ds"
   ]
  },
  {
   "cell_type": "code",
   "execution_count": 22,
   "metadata": {
    "collapsed": true
   },
   "outputs": [],
   "source": [
    "#dsma_smad.attrs['crs'] = 'EPSG:3577'\n",
    "#dsma_smad.attrs['affine'] = dsma.affine"
   ]
  },
  {
   "cell_type": "code",
   "execution_count": 22,
   "metadata": {},
   "outputs": [],
   "source": [
    "#datacube.storage.storage.write_dataset_to_netcdf(dsma_smad, '/g/data/r78/DPIPWE_LM/output_data/ls8_smad_test.nc')\n",
    "datacube.helpers.write_geotiff(filename='/g/data/r78/DPIPWE_lm/output_data/ls8_TMAD_lscomb.tif', dataset=ds)\n",
    "#DEADataHandling.dataset_to_geotiff('dsma_smad_netcdf_test.nc', dsma_smad)"
   ]
  },
  {
   "cell_type": "code",
   "execution_count": null,
   "metadata": {
    "collapsed": true
   },
   "outputs": [],
   "source": []
  }
 ],
 "metadata": {
  "kernelspec": {
   "display_name": "Python [conda env:20181015]",
   "language": "python",
   "name": "conda-env-20181015-py"
  },
  "language_info": {
   "codemirror_mode": {
    "name": "ipython",
    "version": 3
   },
   "file_extension": ".py",
   "mimetype": "text/x-python",
   "name": "python",
   "nbconvert_exporter": "python",
   "pygments_lexer": "ipython3",
   "version": "3.6.6"
  }
 },
 "nbformat": 4,
 "nbformat_minor": 2
}
